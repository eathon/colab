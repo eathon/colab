{
  "nbformat": 4,
  "nbformat_minor": 0,
  "metadata": {
    "colab": {
      "name": "Python資料科學學習手冊-chap5.ipynb",
      "version": "0.3.2",
      "provenance": [],
      "collapsed_sections": [],
      "toc_visible": true,
      "include_colab_link": true
    }
  },
  "cells": [
    {
      "cell_type": "markdown",
      "metadata": {
        "id": "view-in-github",
        "colab_type": "text"
      },
      "source": [
        "[View in Colaboratory](https://colab.research.google.com/github/eathon/colab/blob/master/Python%E8%B3%87%E6%96%99%E7%A7%91%E5%AD%B8%E5%AD%B8%E7%BF%92%E6%89%8B%E5%86%8A_chap5.ipynb)"
      ]
    },
    {
      "metadata": {
        "id": "JWI8SuJrsC7N",
        "colab_type": "text"
      },
      "cell_type": "markdown",
      "source": [
        ""
      ]
    },
    {
      "metadata": {
        "id": "vMDYoviLuSnp",
        "colab_type": "text"
      },
      "cell_type": "markdown",
      "source": [
        "第五章機器學習"
      ]
    },
    {
      "metadata": {
        "id": "caGjwpEKu8V5",
        "colab_type": "code",
        "colab": {
          "base_uri": "https://localhost:8080/",
          "height": 364
        },
        "outputId": "87e56c34-637d-41c3-ec44-a13749aa725c"
      },
      "cell_type": "code",
      "source": [
        "#------------------------------------------------------\n",
        "\n",
        "## 監督是學習範例:簡單線性迴歸 （Simple linear regression)https://admin.sli.do/event/cqhxqq5h/home\n",
        "\n",
        "import matplotlib.pyplot as plt\n",
        "import numpy as np\n",
        "\n",
        "#1.選擇一個模型的類別\n",
        "rng = np.random.RandomState(42)\n",
        "x=10*rng.rand(50)\n",
        "y=2*x-1+rng.randn(50)\n",
        "plt.scatter(x,y);\n",
        "\n",
        "#2.選用模型的超參數\n",
        "from sklearn.linear_model import LinearRegression \n",
        "model = LinearRegression(fit_intercept=True)\n",
        "\n",
        "#3.安排資料到特徵矩陣和目標向量\n",
        "x=x[:,np.newaxis]\n",
        "x.shape\n",
        "\n",
        "#4.擬合模型到你的資料中\n",
        "model.fit(x,y)\n",
        "\n",
        "model.coef_  #斜率\n",
        "model.intercept_ #截距\n",
        "\n",
        "#5.預測未知資料的標籤\n",
        "xfit=np.linspace(-1,11)\n",
        "\n",
        "xfit=xfit[:,np.newaxis]\n",
        "yfit=model.predict(xfit)\n",
        "\n",
        "plt.scatter(x,y)\n",
        "plt.plot(xfit,yfit)"
      ],
      "execution_count": 22,
      "outputs": [
        {
          "output_type": "execute_result",
          "data": {
            "text/plain": [
              "[<matplotlib.lines.Line2D at 0x7fe841685310>]"
            ]
          },
          "metadata": {
            "tags": []
          },
          "execution_count": 22
        },
        {
          "output_type": "display_data",
          "data": {
            "image/png": "[encoded data removed]",
            "text/plain": [
              "<matplotlib.figure.Figure at 0x7fe8475b75d0>"
            ]
          },
          "metadata": {
            "tags": []
          }
        }
      ]
    },
    {
      "metadata": {
        "id": "n4WTt5OfvCBC",
        "colab_type": "code",
        "colab": {
          "base_uri": "https://localhost:8080/",
          "height": 34
        },
        "outputId": "c53200d9-5c51-436d-f166-3825698cd0fa"
      },
      "cell_type": "code",
      "source": [
        "## 監督式學習 ：鳶尾花分類\n",
        "\n",
        "import seaborn as sns\n",
        "iris =sns.load_dataset('iris')\n",
        "iris.head()\n",
        "\n",
        "x_iris=iris.drop('species',axis=1)\n",
        "y_iris=iris['species']\n",
        "\n",
        "from sklearn.cross_validation import train_test_split\n",
        "xtrain,xtest,ytrain,ytest = train_test_split(x_iris,y_iris,random_state=1)\n",
        "\n",
        "from sklearn.naive_bayes import GaussianNB #1.選擇模型類別\n",
        "model=GaussianNB()  #2.實體化模型\n",
        "model.fit(xtrain,ytrain) #3.對資料擬合此模型\n",
        "y_model=model.predict(xtest) #4.針對新資料進行預測\n",
        "from sklearn.metrics import accuracy_score\n",
        "accuracy_score(ytest,y_model)\n"
      ],
      "execution_count": 23,
      "outputs": [
        {
          "output_type": "execute_result",
          "data": {
            "text/plain": [
              "0.9736842105263158"
            ]
          },
          "metadata": {
            "tags": []
          },
          "execution_count": 23
        }
      ]
    },
    {
      "metadata": {
        "id": "VGSwb5SVEJET",
        "colab_type": "code",
        "colab": {}
      },
      "cell_type": "code",
      "source": [
        "\n",
        "## 非監督式學習 ：鳶尾花分類\n",
        "from sklearn.decomposition import PCA #1.選擇一個魔贏的類別\n",
        "model=PCA(n_components=2) #2.使用超參數實體化這個模型\n",
        "model.fit(x_iris) #3.擬合到資料,留意y並不需要設定！\n",
        "x_2d=model.transform(x_iris) #4.轉換資料成為2個維度\n",
        "\n",
        "\n",
        "\n",
        "\n"
      ],
      "execution_count": 0,
      "outputs": []
    },
    {
      "metadata": {
        "id": "1WiLtY5bsP7k",
        "colab_type": "code",
        "colab": {}
      },
      "cell_type": "code",
      "source": [
        ""
      ],
      "execution_count": 0,
      "outputs": []
    },
    {
      "metadata": {
        "id": "D3FEUE0k3Iid",
        "colab_type": "code",
        "colab": {}
      },
      "cell_type": "code",
      "source": [
        ""
      ],
      "execution_count": 0,
      "outputs": []
    },
    {
      "metadata": {
        "id": "b5FhRWaJsQCd",
        "colab_type": "code",
        "colab": {}
      },
      "cell_type": "code",
      "source": [
        ""
      ],
      "execution_count": 0,
      "outputs": []
    }
  ]
}